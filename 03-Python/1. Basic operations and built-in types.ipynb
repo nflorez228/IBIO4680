{
 "cells": [
  {
   "cell_type": "markdown",
   "metadata": {},
   "source": [
    "# 1. Basic Operations and Data Structures\n",
    "Unlike C/C++ and other programming languages, but like JS and MATLAB, Python is an untyped language, which means that you can assign values to variables without any type declarations. However, Python uses type definitions under the hood, which allow to perform conversions and also to know a variable's type.\n",
    "\n",
    "**Note:** By definition, every object on Python comes from a class."
   ]
  },
  {
   "cell_type": "markdown",
   "metadata": {},
   "source": [
    "## 1.1 Built-in types and classes\n",
    "The following are some of the most important types defined by default on Python:\n",
    "\n",
    "| Type | Description |\n",
    "| ---- | ----------- |\n",
    "| ``int`` | An integer number |\n",
    "| ``float`` | A Floating point number |\n",
    "| ``bool`` | A boolean value (True or False) |\n",
    "| ``str`` | A character string |\n",
    "| ``bytes`` | A raw byte sequence |\n",
    "| ``complex`` | A complex number $a + bj$|\n",
    "| ``list`` | A list of objects |\n",
    "| ``tuple`` | An inmutable and ordered sequence of objects | \n",
    "| ``dict`` | An associative array of objects (Key and value pairs) | \n",
    "| ``set`` | An unordered set of objects |\n",
    "\n",
    "Python also offers an additional set of built-in functions that can be called by default:\n",
    "\n",
    "| Func | Description |\n",
    "| ---- | ----------- |\n",
    "| ``abs(x)`` | Absolute value (norm) of an numeric/complex input |\n",
    "| ``sum(x)`` | Sums all values from an iterable object |\n",
    "| ``max(*args)`` | Maximum value of a sequence of input values |\n",
    "| ``min(*args)`` | Minimum value of a sequence of input values |\n",
    "| ``len(x)`` | Count the total number of objects inside an iterable object |\n",
    "| ``type(x)`` | Know a variable type |\n",
    "| ``isinstance(obj, class)`` | Know if object is of class ``obj`` |\n",
    "| ``bin(x)`` | Convert an integer into a binary string |\n",
    "| ``eval(str)`` | Evaluate a python instruction string and returns its result |\n",
    "| ``print(*args)`` | Print the ``str`` representation of a sequence of objects spaced by blank characters |\n",
    "\n",
    "Let's try them with some examples!"
   ]
  },
  {
   "cell_type": "code",
   "execution_count": null,
   "metadata": {},
   "outputs": [],
   "source": [
    "# Define an integer\n",
    "a = 1        # Decimal \n",
    "b = 0xa      # Hexadecimal\n",
    "c = 0b01001  # Binary\n",
    "\n",
    "print(type(a))\n",
    "print(type(b))\n",
    "print(type(c))"
   ]
  },
  {
   "cell_type": "code",
   "execution_count": null,
   "metadata": {},
   "outputs": [],
   "source": [
    "# Define float variables\n",
    "a = 1.0\n",
    "b = 1.33333\n",
    "\n",
    "print(type(a))\n",
    "print(type(b))"
   ]
  },
  {
   "cell_type": "code",
   "execution_count": null,
   "metadata": {},
   "outputs": [],
   "source": [
    "# Define boolean variables\n",
    "a = True\n",
    "b = False\n",
    "\n",
    "print(type(a))\n",
    "print(type(b))"
   ]
  },
  {
   "cell_type": "code",
   "execution_count": null,
   "metadata": {},
   "outputs": [],
   "source": [
    "# String variables declaration\n",
    "a = \"This is an string\"\n",
    "b = 'This is also an string'\n",
    "\n",
    "print(type(a))\n",
    "print(type(b))"
   ]
  },
  {
   "cell_type": "code",
   "execution_count": null,
   "metadata": {
    "scrolled": true
   },
   "outputs": [],
   "source": [
    "# complex numbers defintion\n",
    "a = 1 + 3j\n",
    "print(type(a))"
   ]
  },
  {
   "cell_type": "code",
   "execution_count": null,
   "metadata": {},
   "outputs": [],
   "source": [
    "# Absolute value\n",
    "print(abs(-3))\n",
    "print(abs(-3 + 4j))"
   ]
  },
  {
   "cell_type": "code",
   "execution_count": null,
   "metadata": {},
   "outputs": [],
   "source": [
    "# Max and min operations\n",
    "print(min(-3, 0))\n",
    "print(max(0, 3))"
   ]
  },
  {
   "cell_type": "code",
   "execution_count": null,
   "metadata": {},
   "outputs": [],
   "source": [
    "# get a character string length\n",
    "print(len('123'))"
   ]
  },
  {
   "cell_type": "code",
   "execution_count": null,
   "metadata": {},
   "outputs": [],
   "source": [
    "# isinstance\n",
    "print(isinstance(9 - 4j, complex))\n",
    "\n",
    "a = False\n",
    "isinstance(a, float)"
   ]
  },
  {
   "cell_type": "code",
   "execution_count": null,
   "metadata": {},
   "outputs": [],
   "source": [
    "# Print the binary representation of a number\n",
    "print(bin(255))"
   ]
  },
  {
   "cell_type": "code",
   "execution_count": null,
   "metadata": {},
   "outputs": [],
   "source": [
    "# execute an string as python code (Warning!)\n",
    "print(eval('isinstance((3*4) + 7 - 1j, complex)'))"
   ]
  },
  {
   "cell_type": "markdown",
   "metadata": {},
   "source": [
    "\n",
    "## 1.2 Numeric Operations\n",
    "The following operations can be done over numeric types, _i.e.,_ ``int``, ``float`` or ``complex``\n",
    "\n",
    "| Operation | Meaning       |\n",
    "| --------- | --------------- |\n",
    "|    +      | Sum            |\n",
    "|    -      | Subtraction           |\n",
    "|    *      | Product  |\n",
    "|    /      | Division        |\n",
    "|    //     | Integer Division |\n",
    "|    \\*\\*   | Power        |\n",
    "| ^ | Bitwise XOR |\n",
    "| &#124; | Bitwise OR |\n",
    "| & | Bitwise AND |\n",
    "| << | Left bit shift |\n",
    "| >> | Right bit shift |\n",
    "\n",
    "For example, the following operations can be done:"
   ]
  },
  {
   "cell_type": "code",
   "execution_count": null,
   "metadata": {},
   "outputs": [],
   "source": [
    "2/3"
   ]
  },
  {
   "cell_type": "code",
   "execution_count": null,
   "metadata": {},
   "outputs": [],
   "source": [
    "2//3"
   ]
  },
  {
   "cell_type": "code",
   "execution_count": null,
   "metadata": {},
   "outputs": [],
   "source": [
    "2**3"
   ]
  },
  {
   "cell_type": "code",
   "execution_count": null,
   "metadata": {},
   "outputs": [],
   "source": [
    "2*3"
   ]
  },
  {
   "cell_type": "code",
   "execution_count": null,
   "metadata": {},
   "outputs": [],
   "source": [
    "2 - 3"
   ]
  },
  {
   "cell_type": "code",
   "execution_count": null,
   "metadata": {},
   "outputs": [],
   "source": [
    "2 + 3"
   ]
  },
  {
   "cell_type": "code",
   "execution_count": null,
   "metadata": {},
   "outputs": [],
   "source": [
    "7 ^ 3"
   ]
  },
  {
   "cell_type": "code",
   "execution_count": null,
   "metadata": {},
   "outputs": [],
   "source": [
    "4 | 3"
   ]
  },
  {
   "cell_type": "code",
   "execution_count": null,
   "metadata": {},
   "outputs": [],
   "source": [
    "12 & 3"
   ]
  },
  {
   "cell_type": "code",
   "execution_count": null,
   "metadata": {},
   "outputs": [],
   "source": [
    "4 << 2"
   ]
  },
  {
   "cell_type": "code",
   "execution_count": null,
   "metadata": {},
   "outputs": [],
   "source": [
    "4 >> 2"
   ]
  }
 ],
 "metadata": {
  "kernelspec": {
   "display_name": "Python 2",
   "language": "python",
   "name": "python2"
  },
  "language_info": {
   "codemirror_mode": {
    "name": "ipython",
    "version": 3
   },
   "file_extension": ".py",
   "mimetype": "text/x-python",
   "name": "python",
   "nbconvert_exporter": "python",
   "pygments_lexer": "ipython3",
   "version": "3.5.2"
  }
 },
 "nbformat": 4,
 "nbformat_minor": 2
}
